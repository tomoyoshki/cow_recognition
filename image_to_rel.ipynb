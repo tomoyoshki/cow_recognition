{
 "cells": [
  {
   "cell_type": "markdown",
   "metadata": {},
   "source": [
    "# Image Cow Recognition - Geolocation Calculation"
   ]
  },
  {
   "cell_type": "markdown",
   "metadata": {},
   "source": [
    "## Imports"
   ]
  },
  {
   "cell_type": "code",
   "execution_count": 4,
   "metadata": {},
   "outputs": [],
   "source": [
    "import numpy as np"
   ]
  },
  {
   "cell_type": "markdown",
   "metadata": {},
   "source": [
    "## Read in files"
   ]
  },
  {
   "cell_type": "code",
   "execution_count": 5,
   "metadata": {},
   "outputs": [],
   "source": [
    "file_name = \"./cow_count_output.txt\"\n",
    "\n",
    "image_info = []\n",
    "with open(file_name) as f:\n",
    "    line = f.readline()\n",
    "    while line != \"\":\n",
    "        image_info.append(line)\n",
    "        line = f.readline()\n",
    "\n",
    "image_info = np.array(image_info)"
   ]
  },
  {
   "cell_type": "markdown",
   "metadata": {},
   "source": [
    "## Conversion"
   ]
  },
  {
   "cell_type": "code",
   "execution_count": 6,
   "metadata": {},
   "outputs": [],
   "source": [
    "TARGET_FILES = \"./relative_final_result.txt\""
   ]
  },
  {
   "cell_type": "markdown",
   "metadata": {},
   "source": [
    "### Image coordinate to Relative Coordiante"
   ]
  },
  {
   "cell_type": "code",
   "execution_count": 7,
   "metadata": {},
   "outputs": [],
   "source": [
    "# Image pixel coordinate to relative coordinate\n",
    "def image_to_relative(row, col):\n",
    "    \"\"\"\n",
    "    image_to_relative\n",
    "        parameters:\n",
    "        - row: image row\n",
    "        - col: image col\n",
    "        method:\n",
    "        - convert image coordinate to relative coordinate delta L and delta D        \n",
    "    \"\"\"\n",
    "    row_int = int(row)\n",
    "    col_int = int(col)\n",
    "    delta_l = 2.14 + 5.32 * (10 ** -3) * np.abs(col_int - 6080 / 2) + -3.39 * (10 ** -4) * row_int + 4.66 * (10 ** -7) * (col_int - 6080 / 2)**2 + -2.14 * (10 ** -6) * np.abs(col_int - 6080/2) * row_int\n",
    "    delta_d = 412303.05 * row_int ** (-1.33)\n",
    "    return delta_l, delta_d"
   ]
  },
  {
   "cell_type": "markdown",
   "metadata": {},
   "source": [
    "### Camera Information"
   ]
  },
  {
   "cell_type": "code",
   "execution_count": 8,
   "metadata": {},
   "outputs": [],
   "source": [
    "camera_dictionary = {\n",
    "    \"TW2\": {\n",
    "        \"C1_S\": (3.23088, 84),\n",
    "        \"C2_S\": (3.59664, 87),\n",
    "        \"C3_S\": (3.32232, 80),\n",
    "        \"C3_N\": (3.32232, 80),\n",
    "        \"C4_N\": (3.29184, 84),\n",
    "        \"C5_N\": (3.6576, 71)\n",
    "    },\n",
    "    \"TW4\": {\n",
    "        \"C1_SW\": (3.41376, 88),\n",
    "        \"C2_S\": (3.3528, 81),\n",
    "        \"C3_NE\": (3.6576, 83),\n",
    "        \"C4_N\": (3.62712, 83),\n",
    "        \"C5_NW\": (3.71856, 82),\n",
    "    }\n",
    "}\n",
    "\n",
    "camera_coordinates = {\n",
    "    \"TW1\": (33.8798, 85.701),\n",
    "    \"TW2\": (33.8875, 85.6942),\n",
    "    \"TW3\": (34.3825, 85.6427),\n",
    "    \"TW4\": (34.3823, 85.6447)\n",
    "}"
   ]
  },
  {
   "cell_type": "code",
   "execution_count": 9,
   "metadata": {},
   "outputs": [],
   "source": [
    "def convert_rc_to_xy(lat, long, gamma, r, c, direction):\n",
    "    \"\"\"\n",
    "    Convert pixel coordinates to geographic coordinates\n",
    "        parameters\n",
    "        - lat: latitude of the camera\n",
    "        - long: longitude of the camera\n",
    "        - gamma: given gamma angle\n",
    "        - r: image row\n",
    "        - c: image column\n",
    "        - direction: direction the camera is pointing at\n",
    "        method:\n",
    "        - convert image coordinate into geolocation\n",
    "    \"\"\"\n",
    "    angle = np.deg2rad(45)\n",
    "    \n",
    "    # Getting the rotational matrix for differnet angle\n",
    "    weight_class = {\n",
    "        \"N\": np.array([[-1, 0], [0, -1]]),\n",
    "        \"E\": np.array([[0, 1], [-1, 0]]),\n",
    "        \"W\": np.array([[0, -1], [1, 0]]),\n",
    "        \"S\": np.array([[1, 0], [0, 1]]),\n",
    "        \"NW\": np.array([\n",
    "                        [np.cos(angle), -np.sin(angle)], \n",
    "                        [np.sin(angle), np.cos(angle)]\n",
    "                        ])  @ np.array([[-1, 0], [0, -1]]),\n",
    "        \"NE\": np.array([\n",
    "                        [np.cos(angle), -np.sin(angle)], \n",
    "                        [np.sin(angle), np.cos(angle)]\n",
    "                        ])  @ np.array([[0, 1], [-1, 0]]),\n",
    "        \"SW\": np.array([\n",
    "                        [np.cos(angle), -np.sin(angle)], \n",
    "                        [np.sin(angle), np.cos(angle)]\n",
    "                        ])  @ np.array([[0, -1], [1, 0]]),\n",
    "        \"SE\": np.array([\n",
    "                        [np.cos(angle), -np.sin(angle)], \n",
    "                        [np.sin(angle), np.cos(angle)]\n",
    "                        ])  @ np.array([[1, 0], [0, 1]]),\n",
    "                        \n",
    "    }\n",
    "\n",
    "    # Formula given by Chongya\n",
    "    gamma = np.radians(gamma)\n",
    "    cosgamma = np.cos(gamma)\n",
    "    singamma = np.sin(gamma)\n",
    "    dl, dd = image_to_relative(r,c)\n",
    "    dx = dl*cosgamma - dd*singamma\n",
    "    dy = dl*singamma + dd*cosgamma\n",
    "    R=6378137\n",
    "\n",
    "    dLat = dy/R\n",
    "    dLon = dx/(R*np.cos(np.pi*lat/180))\n",
    "    dy = dLat * 180/np.pi\n",
    "    dx = dLon * 180/np.pi\n",
    "\n",
    "    d_mat = weight_class[direction]\n",
    "    dxp, dyp = d_mat @ np.array([[dx], [dy]])\n",
    "    y = lat + dyp\n",
    "    x = long + dxp\n",
    "\n",
    "    return y, x"
   ]
  },
  {
   "cell_type": "markdown",
   "metadata": {},
   "source": [
    "## Conversion function"
   ]
  },
  {
   "cell_type": "code",
   "execution_count": 15,
   "metadata": {},
   "outputs": [],
   "source": [
    "def convert(file_name):\n",
    "    with open(file_name, \"w\") as f:\n",
    "        cameras = [\"TW1\", \"TW2\", \"TW3\", \"TW4\"]\n",
    "        for infos in image_info:\n",
    "            infos = infos.split(\",\")\n",
    "            # strip the line info\n",
    "            for i in range(0, len(infos)):\n",
    "                infos[i] = infos[i].strip()\n",
    "            # get the filename\n",
    "            file_name = infos[0]\n",
    "            cow_number = infos[1]\n",
    "\n",
    "            # if now cow, simply write and continue\n",
    "            if cow_number == '0':\n",
    "                content = \"%s, %s\\n\" % (file_name, cow_number)\n",
    "                f.write(content)\n",
    "            rest = infos[2:]\n",
    "            coordinate = \"\"\n",
    "            # get each coordinates\n",
    "            for i in range(0, len(rest), 2):\n",
    "                # get the row\n",
    "                row = rest[i][1:]\n",
    "                # get the column\n",
    "                col = rest[i + 1][:-1]\n",
    "\n",
    "                camera_direction = None\n",
    "\n",
    "                # get the camera type and direction\n",
    "                for camera in cameras:\n",
    "                    if camera in file_name:\n",
    "                        x_0, y_0 = camera_coordinates[camera]\n",
    "                        camera_directions = camera_dictionary[camera]\n",
    "                        camera_directions_keys = list(camera_directions)\n",
    "                        for direction in camera_directions_keys:\n",
    "                            if direction in file_name:\n",
    "                                gamma = camera_dictionary[camera][direction][1]\n",
    "                                compass_direction = [\"NE\", \"SW\", \"SE\", \"NW\", \"E\", \"W\", \"S\", \"N\"]\n",
    "                                for d in compass_direction:\n",
    "                                    if d in direction:\n",
    "                                        camera_direction = d\n",
    "                                        break\n",
    "                                break\n",
    "                        break\n",
    "                # coordinate conversion\n",
    "                geo_x, geo_y = convert_rc_to_xy(x_0, y_0, gamma, row, col, camera_direction)\n",
    "                coordinate += \"(%f; %f), \" % (geo_x, geo_y)\n",
    "                coordinate = coordinate[:-2]\n",
    "                content = \"%s, %s, %s\\n\" % (file_name, cow_number, coordinate)\n",
    "            f.write(content)"
   ]
  },
  {
   "cell_type": "markdown",
   "metadata": {},
   "source": [
    "### Convert to text and csv files"
   ]
  },
  {
   "cell_type": "code",
   "execution_count": 16,
   "metadata": {},
   "outputs": [],
   "source": [
    "convert(TARGET_FILES)\n",
    "convert(f\"{TARGET_FILES[:-3]}csv\")"
   ]
  }
 ],
 "metadata": {
  "interpreter": {
   "hash": "31f2aee4e71d21fbe5cf8b01ff0e069b9275f58929596ceb00d14d90e3e16cd6"
  },
  "kernelspec": {
   "display_name": "cow_env",
   "language": "python",
   "name": "cow_env"
  },
  "language_info": {
   "codemirror_mode": {
    "name": "ipython",
    "version": 3
   },
   "file_extension": ".py",
   "mimetype": "text/x-python",
   "name": "python",
   "nbconvert_exporter": "python",
   "pygments_lexer": "ipython3",
   "version": "3.7.10"
  },
  "orig_nbformat": 4
 },
 "nbformat": 4,
 "nbformat_minor": 2
}
